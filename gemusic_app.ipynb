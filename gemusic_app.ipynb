{
 "cells": [
  {
   "attachments": {},
   "cell_type": "markdown",
   "metadata": {},
   "source": [
    "# GeMusic app test\n",
    "\n",
    "I want to explore some basic \"live plots\" with some rudimentary user interaction.\n",
    "\n",
    "There are many libraries that can do this, and typically matplotlib is seen as \"slow\" with realtime data and better for \"publication\"-style graphics.\n",
    "\n",
    "A few that could potentially work include `bokeh`, `pyqtgraph`, `vispy`, `plotly`, etc.  It's important to pick a library which is \"modern\" and under active development.  I like `vispy` and `pyqtgraph` because they both use the `Qt` C++ library as a backend, which is a very large-scale project used by lots of companies.  Some applications can operate extremely quickly taking advantage of the C++ backend - this is obvious from running the `pyqtgraph` examples, `python -m pyqtgraph.examples`.\n",
    "\n",
    "There are a couple of different popular Python bindings for `Qt`.   I'm going to pick PyQt5, since it's mature enough for there to be lots of StackOverflow posts about it.  Newer stuff like PyQt6 doesn't have enough support yet - for example, it can't be easily used with `ipython` (or a Jupyter notebook) using the `%gui qt5` magic.\n",
    "\n",
    "Some thoughts from [this github post](https://github.com/pyqtgraph/pyqtgraph/issues/737):\n",
    "\n",
    "> As far as I'm concerned, currently both VisPy and pyqtgraph have different scopes. While the one focuses on realtime plotting, the other brings a bunch of full-fledged Qt widgets including buttons for autoscaling, exporting, logscale, sliders to select color ranges... to be used in custom Qt applications.\n",
    "\n",
    "> I think using VisPy as a base is still interesting for pyqtgraph, especially for the pyqtgraph.opengl system, as a common code base for this also means that development can be faster. Still it will not be replaced by VisPy, as it still provides rich UI elements and the GUI development-focused API.\n",
    "\n",
    "Consider: 4 Levels of Interactivity\n",
    "\n",
    "0. Edit code, get new view\n",
    "\n",
    "1. Manipulate widget, view changes\n",
    "\n",
    "2. Manipulate view, view changes.\n",
    "\n",
    "3. Manipulate view, another view changes.\n",
    "\n",
    "\n",
    "Some thoughts on writing these interactive plot applications:\n",
    "\n",
    "* I like connecting these apps to a Jupyter notebook, especially for development.  \n",
    "\n",
    "* It's tricky to control the number of active \"Python\" processes that can be spawned by the notebook.  Closing them too forcefully can cause the `IPython` kernel to crash inside VSCode, which usually requires a restart of VSCode.\n",
    "\n",
    "* Basic structure is a `QApplication` and `QMainWindow` running in a cell after some other cells define the classes for each type of window / widget.\n",
    "\n",
    "\n",
    "References:\n",
    "* [Youtube: Why *Interactive* Data Visualization Matters for Data Science in Python | PyData Global 2021](https://www.youtube.com/watch?v=tlcMlOVbEpw&ab_channel=PyData)\n",
    "\n",
    "* [CAGE: Slow controls app](https://github.com/legend-exp/CAGE/blob/master/gui/cage_control.py)\n",
    "\n",
    "* [The Python visualization landscape (2022)](https://pyviz.org/overviews/index.html)\n",
    "\n",
    "* [VisPy: Plotting realtime data](https://vispy.org/gallery/scene/realtime_data/ex03a_data_sources_timer.html#sphx-glr-gallery-scene-realtime-data-ex03a-data-sources-timer-py) - give a few good jupyter notebook examples that I've borrowed from below."
   ]
  },
  {
   "cell_type": "code",
   "execution_count": 1,
   "metadata": {},
   "outputs": [],
   "source": [
    "%gui qt\n",
    "\n",
    "# WARNING: after any of these has been called you can simply create an application object, but DO NOT start the event loop yourself, as we have already handled that.\n",
    "\n",
    "# https://ipython.readthedocs.io/en/stable/config/eventloops.html#integrating-with-gui-event-loops"
   ]
  },
  {
   "cell_type": "code",
   "execution_count": null,
   "metadata": {},
   "outputs": [],
   "source": []
  }
 ],
 "metadata": {
  "kernelspec": {
   "display_name": "Python 3",
   "language": "python",
   "name": "python3"
  },
  "language_info": {
   "codemirror_mode": {
    "name": "ipython",
    "version": 3
   },
   "file_extension": ".py",
   "mimetype": "text/x-python",
   "name": "python",
   "nbconvert_exporter": "python",
   "pygments_lexer": "ipython3",
   "version": "3.10.8 (main, Oct 13 2022, 09:48:40) [Clang 14.0.0 (clang-1400.0.29.102)]"
  },
  "orig_nbformat": 4,
  "vscode": {
   "interpreter": {
    "hash": "b0fa6594d8f4cbf19f97940f81e996739fb7646882a419484c72d19e05852a7e"
   }
  }
 },
 "nbformat": 4,
 "nbformat_minor": 2
}
